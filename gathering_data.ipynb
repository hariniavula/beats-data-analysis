{
  "nbformat": 4,
  "nbformat_minor": 0,
  "metadata": {
    "colab": {
      "provenance": [],
      "include_colab_link": true
    },
    "kernelspec": {
      "name": "python3",
      "display_name": "Python 3"
    },
    "language_info": {
      "name": "python"
    }
  },
  "cells": [
    {
      "cell_type": "markdown",
      "metadata": {
        "id": "view-in-github",
        "colab_type": "text"
      },
      "source": [
        "<a href=\"https://colab.research.google.com/github/hariniavula/beats-data-analysis/blob/main/gathering_data.ipynb\" target=\"_parent\"><img src=\"https://colab.research.google.com/assets/colab-badge.svg\" alt=\"Open In Colab\"/></a>"
      ]
    },
    {
      "cell_type": "code",
      "execution_count": null,
      "metadata": {
        "id": "9LosEauFFR_U"
      },
      "outputs": [],
      "source": [
        "import json\n",
        "import pandas as pd"
      ]
    },
    {
      "cell_type": "code",
      "source": [
        "## obtained data json from oxylabs API (Amazon Scraper)\n",
        "file_path = '/content/data (4).json'\n",
        "with open(file_path, 'r') as file:\n",
        "    data = json.load(file)"
      ],
      "metadata": {
        "id": "6B8Vud50Fmy5"
      },
      "execution_count": null,
      "outputs": []
    },
    {
      "cell_type": "code",
      "source": [
        "reviews_data = []\n",
        "count = 0\n",
        "for result in data['results']:\n",
        "  asin = result['content'][\"asin\"]\n",
        "  for review in result['content']['reviews']:\n",
        "    count += 1\n",
        "    try:\n",
        "      review_info = {\n",
        "      'review_id': review['id'],\n",
        "      'product_id': asin,\n",
        "      \"title\": review[\"title\"],\n",
        "      \"author\": review[\"author\"],\n",
        "      \"rating\": review[\"author\"],\n",
        "      \"content\": review[\"content\"],\n",
        "      \"timestamp\": review[\"timestamp\"],\n",
        "      \"profile_id\": review[\"profile_id\"],\n",
        "      \"is_verified\": review[\"is_verified\"],\n",
        "      \"helpful_count\": review.get('helpful_count', 0),\n",
        "      \"product_attributes\": review[\"product_attributes\"]\n",
        "      }\n",
        "      reviews_data.append(review_info)\n",
        "    except:\n",
        "      print(count)\n",
        "      break\n",
        "\n",
        "reviews_df = pd.DataFrame(reviews_data)\n",
        "reviews_df.to_csv('beats-solo4.csv', index=False)\n",
        "reviews_df"
      ],
      "metadata": {
        "id": "ebDm0fZ4HchE"
      },
      "execution_count": null,
      "outputs": []
    },
    {
      "cell_type": "code",
      "source": [
        "df_1 = pd.read_csv('/content/beats-review.csv')\n",
        "df_2 = pd.read_csv('/content/apple-reviews.csv')\n",
        "df_3 = pd.read_csv('/content/bose-reviews.csv')\n",
        "df_4 = pd.read_csv('/content/sennheiser-reviews.csv')\n",
        "df_5 = pd.read_csv('/content/sony-reviews.csv')\n",
        "df_6 = pd.read_csv('/content/BERIBES.csv')\n",
        "df_7 = pd.read_csv('/content/jbl.csv')\n",
        "df_8 = pd.read_csv('/content/Anker.csv')\n",
        "df_9 = pd.read_csv('/content/beats-studio.csv')\n",
        "df_10 = pd.read_csv('/content/beats-solo4.csv')\n"
      ],
      "metadata": {
        "id": "En8fW_xowvlc"
      },
      "execution_count": null,
      "outputs": []
    },
    {
      "cell_type": "code",
      "source": [
        "merged_df = pd.concat([df_1, df_2, df_3, df_4, df_5, df_6, df_7, df_8, df_9, df_10], ignore_index=True)\n",
        "merged_df\n",
        "merged_df.to_csv('reviews.csv', index=False)"
      ],
      "metadata": {
        "id": "T2fOE9uQw7mq"
      },
      "execution_count": null,
      "outputs": []
    }
  ]
}
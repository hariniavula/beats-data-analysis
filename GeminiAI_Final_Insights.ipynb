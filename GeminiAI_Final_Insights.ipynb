{
  "cells": [
    {
      "cell_type": "code",
      "execution_count": null,
      "metadata": {
        "id": "0s9HvglWGbSJ"
      },
      "outputs": [],
      "source": [
        "import google.generativeai as genai\n",
        "import pandas as pd\n",
        "\n",
        "# Load your dataset\n",
        "df = pd.read_csv('cleaned_data.csv')"
      ]
    },
    {
      "cell_type": "code",
      "execution_count": null,
      "metadata": {
        "id": "zlEinrWXD709",
        "colab": {
          "base_uri": "https://localhost:8080/",
          "height": 555
        },
        "outputId": "b88d814e-2035-48c8-dc06-58bb40ceb91e"
      },
      "outputs": [
        {
          "output_type": "stream",
          "name": "stdout",
          "text": [
            "## Key Points from the Reviews:\n",
            "\n",
            "**Positives:**\n",
            "\n",
            "* **Sound Quality:**  Reviewers consistently praise the sound quality, describing it as \"amazing,\" \"impressive,\" \"clear,\" \"crisp,\" and \"immersive.\"\n",
            "* **Noise Cancellation:** Many reviewers highlight the effectiveness of the noise cancellation feature, describing it as \"outstanding\" and \"perfect.\"\n",
            "* **Comfort:**  Comfort is a recurring theme, with reviews mentioning the headphones being \"comfortable,\" \"confortable,\" and \"cute.\"\n",
            "* **Durability:** Some reviewers mention the headphones as being \"durable\" and \"good quality.\" \n",
            "* **Value for Money:** The value for price is praised by several reviewers, especially when the headphones were purchased on sale.\n",
            "* **Long Battery Life:** Long battery life is mentioned as a positive, with a specific review mentioning \"LONG battery life.\"\n",
            "* **Style:**  Reviewers appreciate the stylish design of the headphones.\n",
            "* **Versatility:** The headphones are seen as versatile, working well for various activities like gym workouts, listening to music, and making calls. \n",
            "\n",
            "**Negatives:**\n",
            "\n",
            "* **Durability:** A few reviewers express concerns about the headphones' durability, mentioning that they are \"fragile\" and \"probably not the most durable.\" \n",
            "* **Fit:** Some users experience fit issues, particularly those with larger ears. \n",
            "* **Bass:**  While sound quality is generally praised, some reviewers find the bass lacking.\n",
            "* **Price:**  The price is mentioned as a potential deterrent, but many reviewers believe the headphones are worth the cost.\n",
            "\n",
            "**Other Notable Points:**\n",
            "\n",
            "* Several reviewers mention the headphones' effectiveness in blocking out noise, particularly when used for calls.\n",
            "* The headphones are popular among younger generations, as evidenced by reviews mentioning use by teenagers and grandchildren.\n",
            "\n",
            "**Overall:**\n",
            "\n",
            "The reviews paint a generally positive picture of the headphones, highlighting their strong sound quality, comfortable fit, noise-cancellation features, and overall value for money. However, some concerns about durability and potential fit issues for those with larger ears should be considered. \n",
            "\n"
          ]
        }
      ],
      "source": [
        "# Function to analyze reviews using Gemini AI\n",
        "def analyze_reviews(reviews, api_key):\n",
        "  genai.configure(api_key=api_key)\n",
        "  model = genai.GenerativeModel(\n",
        "      model_name=\"gemini-1.5-flash\",\n",
        "      generation_config={\n",
        "          \"temperature\": 1,\n",
        "          \"top_p\": 0.95,\n",
        "          \"top_k\": 64,\n",
        "          \"max_output_tokens\": 8192,\n",
        "          \"response_mime_type\": \"text/plain\",\n",
        "          },   )\n",
        "  chat_session = model.start_chat(history=[])\n",
        "  prompt = \"Analyze the following reviews and summarize the key points:\\n\\n\" + \"\\n\\n\".join(reviews)\n",
        "  response = chat_session.send_message(prompt)\n",
        "  return response.text\n",
        "\n",
        "# Select a subset of reviews for Beats\n",
        "reviews_beats_studio3 = df['title'].iloc[1:101].tolist()\n",
        "\n",
        "# Analyze reviews using Gemini AI\n",
        "reviews = reviews_beats_studio3\n",
        "# Replace 'your_api_key' with the actual API key\n",
        "api_key = \"your_api_key\"\n",
        "\n",
        "insights = analyze_reviews(reviews, api_key)\n",
        "print(insights)"
      ]
    },
    {
      "cell_type": "code",
      "execution_count": null,
      "metadata": {
        "id": "RVdCqiTgCnVd",
        "colab": {
          "base_uri": "https://localhost:8080/",
          "height": 517
        },
        "outputId": "ac6ca848-76de-4f7c-f09e-bbeafe24d170"
      },
      "outputs": [
        {
          "output_type": "stream",
          "name": "stdout",
          "text": [
            "## Pros and Cons of Headphones: Customer Reviews Analysis\n",
            "\n",
            "**Pros:**\n",
            "\n",
            "* **Sound Quality:** Amazing, incredible, great, good, clear, crisp, high quality, bassy, well-balanced.\n",
            "* **Noise Cancellation:** Excellent, great, impressive, good, mind-blowing, cuts out noise. \n",
            "* **Comfort:** Comfortable, soft, good fit, lightweight.\n",
            "* **Battery Life:** Long-lasting, crazy long, lasts for weeks, long battery.\n",
            "* **Durability:** Sturdy, well-built, good quality.\n",
            "* **Connectivity:** Easy to connect, pairs easily.\n",
            "* **Style:** Stylish, cute.\n",
            "* **Features:** Touch controls, transparency mode, Dolby Atmos.\n",
            "* **Value for Money:** Great value, worth the price, good deal.\n",
            "* **Customer Service:** Excellent, great.\n",
            "\n",
            "**Cons:**\n",
            "\n",
            "* **Price:** Expensive, overpriced.\n",
            "* **Fit:** Too tight, small ear cups, uncomfortable, hurts ears.\n",
            "* **Durability:** Fragile, breaks easily.\n",
            "* **Connectivity:** Drops connection, Bluetooth issues, multipoint issues.\n",
            "* **Sound Quality:** Lacking in bass, poor sound quality, audio issues, not ideal for calls.\n",
            "* **Features:** No headphone jack, short charge cable, no instructions, auto-shut off doesn't work.\n",
            "* **Comfort:**  Headband too tight, sweaty.\n",
            "* **Misleading Description:** Color is not as advertised.\n",
            "\n",
            "**Note:** Some reviews are short and lack specific details, so it's difficult to discern clear pros and cons. \n",
            "\n"
          ]
        }
      ],
      "source": [
        "# Function to analyze reviews using Gemini AI\n",
        "def analyze_reviews(reviews, api_key):\n",
        "  genai.configure(api_key=api_key)\n",
        "  model = genai.GenerativeModel(\n",
        "      model_name=\"gemini-1.5-flash\",\n",
        "      generation_config={\n",
        "          \"temperature\": 1,\n",
        "          \"top_p\": 0.95,\n",
        "          \"top_k\": 64,\n",
        "          \"max_output_tokens\": 8192,\n",
        "          \"response_mime_type\": \"text/plain\",\n",
        "          },   )\n",
        "  chat_session = model.start_chat(history=[])\n",
        "  prompt = \"Analyze the following reviews and list out all the pros and cons customers listed:\\n\\n\" + \"\\n\\n\".join(reviews)\n",
        "  response = chat_session.send_message(prompt)\n",
        "  return response.text\n",
        "\n",
        "# Select a subset of reviews for Beats\n",
        "reviews_beats_studio3 = df['title'].tolist()\n",
        "\n",
        "# Analyze reviews using Gemini AI\n",
        "reviews = reviews_beats_studio3\n",
        "# Replace 'your_api_key' with the actual API key\n",
        "api_key = \"your_api_key\"\n",
        "\n",
        "insights = analyze_reviews(reviews, api_key)\n",
        "print(insights)"
      ]
    },
    {
      "cell_type": "code",
      "execution_count": null,
      "metadata": {
        "colab": {
          "base_uri": "https://localhost:8080/",
          "height": 573
        },
        "id": "ePponOWsIq_H",
        "outputId": "8cffe204-6e75-4a0d-d236-3b6002513e95"
      },
      "outputs": [
        {
          "output_type": "stream",
          "name": "stdout",
          "text": [
            "## Key Positive Points from Reviews:\n",
            "\n",
            "**Sound Quality:**\n",
            "\n",
            "* **Amazing, impressive, clear, crisp, good, fantastic, excellent** \n",
            "* **Immersive sound, great hearing, good quality** \n",
            "* **High praise for bass, though some mention it could be better**\n",
            "\n",
            "**Other Features:**\n",
            "\n",
            "* **Long battery life, durable (though some mention fragility)**\n",
            "* **Comfortable, stylish, good value**\n",
            "* **Noise cancellation works well**\n",
            "* **Good for the gym, everyday use, traveling, etc.**\n",
            "* **Great for teenagers and younger people**\n",
            "\n",
            "**General Sentiment:**\n",
            "\n",
            "* **Highly recommended, can't go wrong, money well spent**\n",
            "* **Satisfied customers, many state they love the headphones**\n",
            "\n",
            "**Specific Comments:**\n",
            "\n",
            "* **Some users mention concerns about fit for larger ears**\n",
            "* **A few express that the headphones are not the most durable**\n",
            "\n",
            "**Overall:**\n",
            "\n",
            "The reviews overwhelmingly praise the headphones for their sound quality, comfortable fit, and stylish design.  While some users note minor drawbacks, the positive aspects clearly outweigh any negatives, making it seem like a very good purchase for most people. \n",
            "\n"
          ]
        }
      ],
      "source": [
        "# Function to analyze reviews using Gemini AI\n",
        "def analyze_reviews(reviews, api_key):\n",
        "  genai.configure(api_key=api_key)\n",
        "  model = genai.GenerativeModel(\n",
        "      model_name=\"gemini-1.5-flash\",\n",
        "      generation_config={\n",
        "          \"temperature\": 1,\n",
        "          \"top_p\": 0.95,\n",
        "          \"top_k\": 64,\n",
        "          \"max_output_tokens\": 8192,\n",
        "          \"response_mime_type\": \"text/plain\",\n",
        "          },   )\n",
        "  chat_session = model.start_chat(history=[])\n",
        "  prompt = \"Analyze the following positive reviews and summarize the key positive points:\\n\\n\" + \"\\n\\n\".join(reviews)\n",
        "  response = chat_session.send_message(prompt)\n",
        "  return response.text\n",
        "\n",
        "# Select a subset of reviews for Beats\n",
        "reviews_beats_studio3 = df['title'].iloc[1:101].tolist()\n",
        "\n",
        "# Analyze reviews using Gemini AI\n",
        "reviews = reviews_beats_studio3\n",
        "# Replace 'your_api_key' with the actual API key\n",
        "api_key = \"your_api_key\"\n",
        "\n",
        "insights = analyze_reviews(reviews, api_key)\n",
        "print(insights)"
      ]
    },
    {
      "cell_type": "code",
      "execution_count": null,
      "metadata": {
        "colab": {
          "base_uri": "https://localhost:8080/",
          "height": 483
        },
        "id": "vJlou_goGn5V",
        "outputId": "fc71f316-c1de-4908-d0c0-a36cadfc75c5"
      },
      "outputs": [
        {
          "output_type": "stream",
          "name": "stdout",
          "text": [
            "## AirPods Max Review Summary:\n",
            "\n",
            "**Positive:**\n",
            "\n",
            "* **Sound quality:** Consistently praised for excellent sound, with many mentioning “amazing”, “best”, “high quality”, and “immaculate”.  \n",
            "* **Noise cancellation:**  Highly effective, described as “excellent”, “best in class”, and “ultimate listening experience”. \n",
            "* **Luxury and build quality:**  Reviews highlight the premium feel, materials, and design, often mentioning the “luxurious” and “overbuilt” nature. \n",
            "* **Good for Apple users:**  Many reviewers appreciate seamless integration with Apple devices, noting that they “simply work” for iPhone and AppleTV users. \n",
            "\n",
            "**Neutral:**\n",
            "\n",
            "* **Price:**  A recurring theme, with many acknowledging the high price but justifying it with the quality or comparing it to competitors. \n",
            "* **Comfort:**  Some found them comfortable, others mentioned they are heavy or too tight. \n",
            "\n",
            "**Negative:**\n",
            "\n",
            "* **Comfort and fit:**  Several reviewers expressed discomfort, citing the headphones as “heavy”, “too tight”, and causing “condensation/water buildup”.\n",
            "* **Price:**  Several reviewers felt the price was too high for the product, even with good quality. \n",
            "* **Minor annoyances:**  Complaints included the limited cable options, the need to put them in the case to turn them off, and the lack of multipoint connection. \n",
            "* **Sound quality:**  A few felt the sound was not quite as “incredible” as they expected, even at this price point.\n",
            "\n",
            "**Overall:**\n",
            "\n",
            "The AirPods Max are generally well-received, with users praising their sound quality, noise cancellation, and premium feel. However, there are concerns regarding comfort, price, and minor annoyances.  The headphones seem particularly well-suited to Apple users who value seamless integration and are willing to pay a premium for high-quality audio and a luxurious experience. \n",
            "\n"
          ]
        }
      ],
      "source": [
        "# Function to analyze reviews using Gemini AI\n",
        "def analyze_reviews(reviews, api_key):\n",
        "  genai.configure(api_key=api_key)\n",
        "  model = genai.GenerativeModel(\n",
        "      model_name=\"gemini-1.5-flash\",\n",
        "      generation_config={\n",
        "          \"temperature\": 1,\n",
        "          \"top_p\": 0.95,\n",
        "          \"top_k\": 64,\n",
        "          \"max_output_tokens\": 8192,\n",
        "          \"response_mime_type\": \"text/plain\",\n",
        "          },   )\n",
        "  chat_session = model.start_chat(history=[])\n",
        "  prompt = \"Analyze the following reviews and summarize the key points:\\n\\n\" + \"\\n\\n\".join(reviews)\n",
        "  response = chat_session.send_message(prompt)\n",
        "  return response.text\n",
        "\n",
        "# Select a subset of reviews for Apple\n",
        "reviews_apple = df['title'].iloc[101:201].tolist()\n",
        "\n",
        "# Analyze reviews using Gemini AI\n",
        "reviews = reviews_apple\n",
        "# Replace 'your_api_key' with the actual API key\n",
        "api_key = \"your_api_key\"\n",
        "\n",
        "insights = analyze_reviews(reviews, api_key)\n",
        "print(insights)"
      ]
    },
    {
      "cell_type": "code",
      "execution_count": null,
      "metadata": {
        "colab": {
          "base_uri": "https://localhost:8080/",
          "height": 626
        },
        "id": "VwnIld2pGxZ-",
        "outputId": "422ad025-29b3-4842-ceec-13c1ff32dbd6"
      },
      "outputs": [
        {
          "output_type": "stream",
          "name": "stdout",
          "text": [
            "## Key Points from Bose Headphones Reviews:\n",
            "\n",
            "**Positive:**\n",
            "\n",
            "* **Exceptional noise cancellation:** Consistently praised for its effectiveness in blocking out external noise. \n",
            "* **Superior sound quality:**  Users consistently mention great sound quality, clarity, and depth.\n",
            "* **Comfort:**  Several reviews highlight the comfort of the headphones. \n",
            "* **Bose Quality:** Many reviewers emphasize the trust in Bose's reputation and quality.\n",
            "* **Great for Travel and Commuting:**  Ideal for blocking out noise on planes, subways, and in busy environments.\n",
            "* **Long Battery Life:**  Positive comments about the duration of the battery. \n",
            "* **Easy to use and set up:**  Reviewers note the ease of pairing and using the headphones.\n",
            "* **Great value for the price:**  Despite being a premium brand, many feel the product is worth the price.\n",
            "\n",
            "**Negative:**\n",
            "\n",
            "* **Flimsy build:** Some reviews mention concerns about the headphones' durability.\n",
            "* **Occasional crackling sound:**  Issues with noise cancellation and sound quality were reported by a few reviewers.\n",
            "* **Short charging cable:** Several reviews noted the inconvenience of a short charging cable.\n",
            "* **Case quality:**  Some users expressed dissatisfaction with the case's quality.\n",
            "* **Bluetooth search issue:** One reviewer mentioned needing an option to disable Bluetooth search.\n",
            "* **Lack of instructions:**  A reviewer mentioned that there were no instructions included.\n",
            "\n",
            "**Overall:**\n",
            "\n",
            "The majority of reviews are positive, highlighting the impressive noise cancellation, superior sound quality, and comfort of the headphones. \n",
            "However, there are a few concerns about potential build quality issues and minor shortcomings like the short charging cable and lack of instructions. \n",
            "\n",
            "**Key takeaways:**\n",
            "\n",
            "* Bose headphones are a popular choice for noise cancellation and sound quality.\n",
            "* The headphones are generally well-received but have a few minor flaws.\n",
            "* Potential buyers should be aware of the concerns about build quality and consider these factors when making their decision. \n",
            "\n"
          ]
        }
      ],
      "source": [
        "# Function to analyze reviews using Gemini AI\n",
        "def analyze_reviews(reviews, api_key):\n",
        "  genai.configure(api_key=api_key)\n",
        "  model = genai.GenerativeModel(\n",
        "      model_name=\"gemini-1.5-flash\",\n",
        "      generation_config={\n",
        "          \"temperature\": 1,\n",
        "          \"top_p\": 0.95,\n",
        "          \"top_k\": 64,\n",
        "          \"max_output_tokens\": 8192,\n",
        "          \"response_mime_type\": \"text/plain\",\n",
        "          },   )\n",
        "  chat_session = model.start_chat(history=[])\n",
        "  prompt = \"Analyze the following reviews and summarize the key points:\\n\\n\" + \"\\n\\n\".join(reviews)\n",
        "  response = chat_session.send_message(prompt)\n",
        "  return response.text\n",
        "\n",
        "# Select a subset of reviews for Bose\n",
        "reviews_bose = df['title'].iloc[201:301].tolist()\n",
        "\n",
        "# Analyze reviews using Gemini AI\n",
        "reviews = reviews_bose\n",
        "# Replace 'your_api_key' with the actual API key\n",
        "api_key = \"your_api_key\"\n",
        "\n",
        "insights = analyze_reviews(reviews, api_key)\n",
        "print(insights)"
      ]
    },
    {
      "cell_type": "code",
      "execution_count": null,
      "metadata": {
        "colab": {
          "base_uri": "https://localhost:8080/",
          "height": 430
        },
        "id": "J8G-qxQQGVwn",
        "outputId": "8341adfc-aacc-4348-b10e-8c09e9a5d1f0"
      },
      "outputs": [
        {
          "output_type": "stream",
          "name": "stdout",
          "text": [
            "## Key Points from Reviews:\n",
            "\n",
            "**Positive:**\n",
            "\n",
            "* **Sound Quality:**  The headphones consistently receive praise for their great sound quality, with many reviewers highlighting the clarity, bass, and overall audio experience. \n",
            "* **Noise Cancellation:** Several reviewers specifically mention the effectiveness of the noise cancellation feature, finding it to be a key benefit. \n",
            "* **Comfort:**  Comfort is also a common positive, with reviewers noting that the headphones are comfortable to wear for extended periods.\n",
            "* **Value for money:** Many reviewers find the headphones to be worth the price, especially when they are on sale. \n",
            "* **Build Quality:**  While some reviews mention build quality concerns, overall, the headphones are deemed to be well-built. \n",
            "* **Battery Life:** The long battery life is praised by multiple reviewers.\n",
            "\n",
            "**Negative:**\n",
            "\n",
            "* **Build Quality:**  A few reviewers express concerns about the build quality, noting potential fragility and weaknesses.\n",
            "* **Price:** Some reviewers feel the price is a bit steep, even considering the features and performance.\n",
            "* **Call Quality:** A few reviews mention that the call quality is not as impressive as the sound quality.\n",
            "* **Hair Entanglement:** One reviewer mentions an issue with hair getting tangled in the headphones.\n",
            "\n",
            "**Overall:**\n",
            "\n",
            "The majority of reviews are positive, highlighting the excellent sound quality, effective noise cancellation, and comfortable fit. While there are some concerns about build quality and price, overall, these headphones are considered to be a good option for those seeking high-quality audio performance. \n",
            "\n"
          ]
        }
      ],
      "source": [
        "# Function to analyze reviews using Gemini AI\n",
        "def analyze_reviews(reviews, api_key):\n",
        "  genai.configure(api_key=api_key)\n",
        "  model = genai.GenerativeModel(\n",
        "      model_name=\"gemini-1.5-flash\",\n",
        "      generation_config={\n",
        "          \"temperature\": 1,\n",
        "          \"top_p\": 0.95,\n",
        "          \"top_k\": 64,\n",
        "          \"max_output_tokens\": 8192,\n",
        "          \"response_mime_type\": \"text/plain\",\n",
        "          },   )\n",
        "  chat_session = model.start_chat(history=[])\n",
        "  prompt = \"Analyze the following reviews and summarize the key points:\\n\\n\" + \"\\n\\n\".join(reviews)\n",
        "  response = chat_session.send_message(prompt)\n",
        "  return response.text\n",
        "\n",
        "# Select a subset of reviews for Bose\n",
        "reviews_beats_studio = df['title'].iloc[801:901].tolist()\n",
        "\n",
        "# Analyze reviews using Gemini AI\n",
        "reviews = reviews_beats_studio\n",
        "# Replace 'your_api_key' with the actual API key\n",
        "api_key = \"your_api_key\"\n",
        "\n",
        "insights = analyze_reviews(reviews, api_key)\n",
        "print(insights)"
      ]
    },
    {
      "cell_type": "code",
      "execution_count": null,
      "metadata": {
        "colab": {
          "base_uri": "https://localhost:8080/",
          "height": 537
        },
        "id": "ziz8L9wgHXg6",
        "outputId": "46cda668-4183-4235-b1a4-1d70975f0771"
      },
      "outputs": [
        {
          "output_type": "stream",
          "name": "stdout",
          "text": [
            "## Key Points from Beats Headphones Reviews:\n",
            "\n",
            "**Positive:**\n",
            "\n",
            "* **Sound Quality:**  Many reviews praise the sound quality, describing it as clear, sophisticated, great, and good. \n",
            "* **Comfort:**  Several reviewers mention the headphones being comfortable and stylish. \n",
            "* **Value:**  A few reviewers highlight the headphones being a great value for the price. \n",
            "* **Convenience:**  Reviewers appreciate the ease of use and the long battery life.\n",
            "* **Appearance:**  The color and design are often praised.\n",
            "\n",
            "**Negative:**\n",
            "\n",
            "* **Color Misrepresentation:** A significant number of reviews complain about the color being misrepresented, particularly the \"pink\" color being a different shade than advertised.\n",
            "* **Sound Quality Issues:** Some reviews mention issues with sound quality, describing it as mediocre, lacking bass, or not as good as Bose or Apple headphones.\n",
            "* **Fit & Comfort Issues:**  A few reviews mention discomfort and the headphones being too snug. \n",
            "* **Missing Features:**  Reviews highlight the lack of a charger port, noise cancellation, or compatibility with specific devices. \n",
            "* **Customer Service:**  A few negative reviews mention poor customer service.\n",
            "\n",
            "**Overall:**\n",
            "\n",
            "The reviews are largely positive, with most reviewers praising the sound quality, comfort, and value of the Beats headphones. However, there are a notable number of negative reviews regarding the color misrepresentation, sound quality issues, and missing features.  \n",
            "\n",
            "**Recommendations:**\n",
            "\n",
            "* Potential buyers should be aware of the color discrepancies and research specific models to ensure the color matches their expectations.\n",
            "* Users may want to consider the sound quality and adjust equalizer settings to improve their experience.\n",
            "* Buyers should be aware of any missing features or limitations before purchasing. \n",
            "\n"
          ]
        }
      ],
      "source": [
        "# Function to analyze reviews using Gemini AI\n",
        "def analyze_reviews(reviews, api_key):\n",
        "  genai.configure(api_key=api_key)\n",
        "  model = genai.GenerativeModel(\n",
        "      model_name=\"gemini-1.5-flash\",\n",
        "      generation_config={\n",
        "          \"temperature\": 1,\n",
        "          \"top_p\": 0.95,\n",
        "          \"top_k\": 64,\n",
        "          \"max_output_tokens\": 8192,\n",
        "          \"response_mime_type\": \"text/plain\",\n",
        "          },   )\n",
        "  chat_session = model.start_chat(history=[])\n",
        "  prompt = \"Analyze the following reviews and summarize the key points:\\n\\n\" + \"\\n\\n\".join(reviews)\n",
        "  response = chat_session.send_message(prompt)\n",
        "  return response.text\n",
        "\n",
        "# Select a subset of reviews for Bose\n",
        "reviews_beats_solo = df['title'].iloc[901:1000].tolist()\n",
        "\n",
        "# Analyze reviews using Gemini AI\n",
        "reviews = reviews_beats_solo\n",
        "# Replace 'your_api_key' with the actual API key\n",
        "api_key = \"your_api_key\"\n",
        "\n",
        "insights = analyze_reviews(reviews, api_key)\n",
        "print(insights)"
      ]
    },
    {
      "cell_type": "code",
      "execution_count": null,
      "metadata": {
        "colab": {
          "base_uri": "https://localhost:8080/",
          "height": 591
        },
        "id": "PkZepPqsIfoR",
        "outputId": "73803a6a-b3b5-4541-cf4d-f741a47e6a48"
      },
      "outputs": [
        {
          "output_type": "stream",
          "name": "stdout",
          "text": [
            "## Key Negative Points from Reviews:\n",
            "\n",
            "**Color Misrepresentation:**\n",
            "\n",
            "* Several reviewers complained that the headphones were not the advertised pink color, often describing them as nude or beige instead.\n",
            "\n",
            "**Sound Quality Issues:**\n",
            "\n",
            "* Some reviewers found the sound quality to be \"mediocre\", lacking bass, or not as good as other brands like Bose or Apple.\n",
            "* Others mentioned needing to adjust the equalizer for better audio. \n",
            "\n",
            "**Fit and Comfort:**\n",
            "\n",
            "* Some found the headphones too snug or uncomfortable to wear for extended periods. \n",
            "* One reviewer even mentioned small ear muff size being misleading.\n",
            "\n",
            "**Other Issues:**\n",
            "\n",
            "* Missing charger port or included charger.\n",
            "* Limited volume.\n",
            "* No noise cancellation as advertised.\n",
            "* Callers having trouble hearing through the headphones.\n",
            "* Poor customer service.\n",
            "* Misleading product descriptions.\n",
            "* 37-day return credit policy deemed unsatisfactory. \n",
            "* Overall value for the price questioned.\n",
            "\n",
            "**In Summary:**\n",
            "\n",
            "While many reviews were positive, several negative reviews highlight issues with color accuracy, sound quality, comfort, and overall value for the price. The product seems to be lacking in some key features as advertised, leading to disappointment for some customers. \n",
            "\n"
          ]
        }
      ],
      "source": [
        "# Function to analyze reviews using Gemini AI\n",
        "def analyze_reviews(reviews, api_key):\n",
        "  genai.configure(api_key=api_key)\n",
        "  model = genai.GenerativeModel(\n",
        "      model_name=\"gemini-1.5-flash\",\n",
        "      generation_config={\n",
        "          \"temperature\": 1,\n",
        "          \"top_p\": 0.95,\n",
        "          \"top_k\": 64,\n",
        "          \"max_output_tokens\": 8192,\n",
        "          \"response_mime_type\": \"text/plain\",\n",
        "          },   )\n",
        "  chat_session = model.start_chat(history=[])\n",
        "  prompt = \"Analyze the following negative reviews and summarize the key negative points:\\n\\n\" + \"\\n\\n\".join(reviews)\n",
        "  response = chat_session.send_message(prompt)\n",
        "  return response.text\n",
        "\n",
        "# Select a subset of reviews for Bose\n",
        "reviews_beats_solo = df['title'].iloc[901:1000].tolist()\n",
        "\n",
        "# Analyze reviews using Gemini AI\n",
        "reviews = reviews_beats_solo\n",
        "# Replace 'your_api_key' with the actual API key\n",
        "api_key = \"your_api_key\"\n",
        "\n",
        "insights = analyze_reviews(reviews, api_key)\n",
        "print(insights)"
      ]
    },
    {
      "cell_type": "code",
      "source": [
        "# Function to analyze reviews using Gemini AI\n",
        "def analyze_reviews(reviews, api_key):\n",
        "  genai.configure(api_key=api_key)\n",
        "  model = genai.GenerativeModel(\n",
        "      model_name=\"gemini-1.5-flash\",\n",
        "      generation_config={\n",
        "          \"temperature\": 1,\n",
        "          \"top_p\": 0.95,\n",
        "          \"top_k\": 64,\n",
        "          \"max_output_tokens\": 8192,\n",
        "          \"response_mime_type\": \"text/plain\",\n",
        "          },   )\n",
        "  chat_session = model.start_chat(history=[])\n",
        "  prompt = \"Analyze the following reviews and tell me what could be improved:\\n\\n\" + \"\\n\\n\".join(reviews)\n",
        "  response = chat_session.send_message(prompt)\n",
        "  return response.text\n",
        "\n",
        "# Select a subset of reviews for Bose\n",
        "reviews_beats_solo = df['title'].iloc[901:1000].tolist()\n",
        "\n",
        "# Analyze reviews using Gemini AI\n",
        "reviews = reviews_beats_solo\n",
        "# Replace 'your_api_key' with the actual API key\n",
        "api_key = \"your_api_key\"\n",
        "\n",
        "insights = analyze_reviews(reviews, api_key)\n",
        "print(insights)"
      ],
      "metadata": {
        "colab": {
          "base_uri": "https://localhost:8080/",
          "height": 537
        },
        "id": "VtAtdaDvl0NV",
        "outputId": "08a5b675-5278-4312-9936-c10d5387d09f"
      },
      "execution_count": null,
      "outputs": [
        {
          "output_type": "stream",
          "name": "stdout",
          "text": [
            "Here's an analysis of the reviews, focusing on what could be improved:\n",
            "\n",
            "**Positive Aspects:**\n",
            "\n",
            "* **Strong Emphasis on Sound:** Many reviewers highlight \"great sound,\" \"clear sound,\" and \"good sound quality,\" suggesting that this is a key selling point.\n",
            "* **Comfortability:** Several reviews mention \"comfy\" or \"comfortable fit,\" indicating a positive user experience.\n",
            "* **Value for Money:**  Some reviews express appreciation for the product being \"great value\" or \"worth the sale price.\"\n",
            "* **Styling:**  There are positive mentions of the headphones' \"stylish\" or \"lovely\" appearance.\n",
            "\n",
            "**Areas for Improvement:**\n",
            "\n",
            "* **Lack of Specific Details:** Many positive reviews are overly generic (\"Great headphones,\" \"Love it\"). They could be more helpful if they detailed specific aspects they liked (e.g., \"The bass is amazing,\" \"The noise cancellation is really effective\").\n",
            "* **Clarity on Color:** A significant number of reviews focus on the color being incorrect (not pink as advertised), highlighting a potential product inconsistency or misleading marketing.\n",
            "* **Mixed Sound Quality:** While many reviewers praise the sound, some express concerns about \"mediocre sound quality,\" \"limited volume,\" and \"no bass.\"  This indicates a need for clearer messaging about the sound capabilities to manage expectations.\n",
            "* **Fit Issues:**  A few reviews mention the headphones being \"too snug\" or \"uncomfortable after awhile,\" suggesting potential fit problems for certain head sizes.\n",
            "* **Battery Life/Charger Issues:**  One review mentions a lack of charger port, and another notes a short battery life. These issues should be addressed.\n",
            "* **Clarity on Features:** Some reviews suggest a lack of clarity about specific features. For instance, one review states that the headphones are \"NOT noise canceling\" despite the product description potentially implying otherwise.\n",
            "\n",
            "**Recommendations for Improvement:**\n",
            "\n",
            "* **Encourage More Detailed Reviews:** Offer incentives or prompts for reviewers to provide more specific feedback on the sound quality, comfort, battery life, and other key features.\n",
            "* **Address Color Discrepancies:**  Investigate the color issue to ensure accurate product descriptions and potentially adjust marketing materials.\n",
            "* **Fine-tune Sound Messaging:**  Clearly communicate the target sound profile of the headphones (e.g., emphasis on bass, clarity, noise cancellation). This will help manage expectations and prevent negative reviews from those expecting a different sound experience.\n",
            "* **Provide Fit Information:**  Consider including information about head size compatibility or providing adjustable sizing options.\n",
            "* **Transparency on Features:** Ensure product descriptions are accurate and clear regarding all features, including battery life, charger requirements, and noise cancellation capabilities. \n",
            "\n",
            "By addressing these points, you can improve the overall review sentiment and create a more informed customer base. \n",
            "\n"
          ]
        }
      ]
    }
  ],
  "metadata": {
    "colab": {
      "provenance": []
    },
    "kernelspec": {
      "display_name": "Python 3",
      "name": "python3"
    },
    "language_info": {
      "name": "python"
    }
  },
  "nbformat": 4,
  "nbformat_minor": 0
}